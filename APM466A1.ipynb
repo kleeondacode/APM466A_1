{
 "cells": [
  {
   "cell_type": "code",
   "execution_count": 1,
   "id": "0f91b2ce",
   "metadata": {},
   "outputs": [
    {
     "name": "stdout",
     "output_type": "stream",
     "text": [
      "Covariance matrix of Xij_yield:\n",
      "[[0.01418915 0.01707348 0.01833231 0.01060607 0.01933797]\n",
      " [0.01707348 0.02069011 0.02218127 0.01285114 0.02342504]\n",
      " [0.01833231 0.02218127 0.02388821 0.0137919  0.02515369]\n",
      " [0.01060607 0.01285114 0.0137919  0.00803728 0.01456611]\n",
      " [0.01933797 0.02342504 0.02515369 0.01456611 0.02654781]]\n"
     ]
    }
   ],
   "source": [
    "import numpy as np\n",
    "\n",
    "Xij_yield = np.array([\n",
    "    [-0.360990621, -0.007898945, -0.006730763, -0.016083961, -0.013174588, 0.026184691, -0.004318684, -0.014317283, -0.008812181],\n",
    "    [-0.42304951, -0.003969845, 0.010929072, -0.025227336, 0.001917405, 0.030410953, 0.027765988, 0.004709962, -0.002352426],\n",
    "    [-0.458859927, -0.004543816, 0, -0.010059156, 0.002752028, 0.012757588, 0.023329259, 0.004433589, 0.00265213],\n",
    "    [-0.260280704, -0.00679925, -0.004881375, -0.007853661, -0.00295905, 0.025395029, 0.028621658, 0.010319211, 0.002798418],\n",
    "    [-0.479344562, -0.007826311, 0.010942393, -0.019611641, -0.001583092, 0.028949252, 0.030521267, 0.011992795, 0.002979475]\n",
    "])\n",
    "cov_matrix_yield = np.cov(Xij_yield)\n",
    "print(\"Covariance matrix of Xij_yield:\")\n",
    "print(cov_matrix_yield)"
   ]
  },
  {
   "cell_type": "code",
   "execution_count": 2,
   "id": "6000ed77",
   "metadata": {
    "scrolled": true
   },
   "outputs": [
    {
     "name": "stdout",
     "output_type": "stream",
     "text": [
      "Covariance matrix of Xij_Foward:\n",
      "[[0.0007211  0.00062317 0.00046422 0.00065129]\n",
      " [0.00062317 0.00194148 0.00043813 0.00045828]\n",
      " [0.00046422 0.00043813 0.00034007 0.00044981]\n",
      " [0.00065129 0.00045828 0.00044981 0.00063264]]\n"
     ]
    }
   ],
   "source": [
    "Xij_fwd = np.array([\n",
    "    [0, 0.015890481, 0.008661677, -0.044353871, 0.015813022, 0.041575768, 0.050732848, 0.016287836, 0.007862038],\n",
    "    [-0.002536891, 0.010568583, 0.006878643, -0.032535274, 0.000779981, -0.04365627, 0.112625455, 0.013138631, -0.001127168],\n",
    "    [-0.001373207, 0.00143493, 0.009451484, -0.022820465, -2.29733E-05, 0.03096518, 0.038580284, 0.016124706, 0.001294787],\n",
    "    [0.002548811, 0.012682268, 0.013669146, -0.036998206, 0.002210404, 0.048857677, 0.043548815, 0.018823542, 0.003536812]\n",
    "])\n",
    "\n",
    "cov_matrix_fwd = np.cov(Xij_fwd)\n",
    "\n",
    "print(\"Covariance matrix of Xij_Foward:\")\n",
    "print(cov_matrix_fwd)"
   ]
  },
  {
   "cell_type": "code",
   "execution_count": 4,
   "id": "93f3795b",
   "metadata": {},
   "outputs": [
    {
     "name": "stdout",
     "output_type": "stream",
     "text": [
      "Eigenvalues (Yield): [9.31635996e-02 5.57782033e-06 8.54594070e-05 3.63150094e-05\n",
      " 6.15981950e-05]\n",
      "Eigenvectors (Yield): [[-0.38929094  0.045752    0.89728901  0.19039132  0.07058971]\n",
      " [-0.4710021  -0.54692232 -0.07791051 -0.59335488  0.34769663]\n",
      " [-0.50593147 -0.26742506 -0.19362618  0.22568363 -0.76425976]\n",
      " [-0.29290194 -0.13987324 -0.31368395  0.71525859  0.53352737]\n",
      " [-0.53371471  0.77955247 -0.23002973 -0.22170517  0.07334646]]\n",
      "Eigenvalues (Forward): [2.69221328e-03 9.05973465e-04 3.24267577e-05 4.68059085e-06]\n",
      "Eigenvectors (Forward): [[ 0.43489723  0.46387227 -0.71480099 -0.29111245]\n",
      " [ 0.76315591 -0.64205876  0.01885929  0.07069603]\n",
      " [ 0.29925749  0.3041035   0.63977133 -0.63926415]\n",
      " [ 0.37269614  0.52924864  0.28177386  0.7082351 ]]\n"
     ]
    }
   ],
   "source": [
    "\n",
    "eigenvalues_yield, eigenvectors_yield = np.linalg.eig(cov_matrix_yield)\n",
    "eigenvalues_fwd, eigenvectors_fwd = np.linalg.eig(cov_matrix_fwd)\n",
    "\n",
    "print(\"Eigenvalues (Yield):\", eigenvalues_yield)\n",
    "print(\"Eigenvectors (Yield):\", eigenvectors_yield)\n",
    "\n",
    "print(\"Eigenvalues (Forward):\", eigenvalues_fwd)\n",
    "print(\"Eigenvectors (Forward):\", eigenvectors_fwd)\n"
   ]
  },
  {
   "cell_type": "code",
   "execution_count": null,
   "id": "1f2f49fa",
   "metadata": {},
   "outputs": [],
   "source": []
  },
  {
   "cell_type": "code",
   "execution_count": null,
   "id": "6bab3570",
   "metadata": {},
   "outputs": [],
   "source": []
  }
 ],
 "metadata": {
  "kernelspec": {
   "display_name": "Python 3 (ipykernel)",
   "language": "python",
   "name": "python3"
  },
  "language_info": {
   "codemirror_mode": {
    "name": "ipython",
    "version": 3
   },
   "file_extension": ".py",
   "mimetype": "text/x-python",
   "name": "python",
   "nbconvert_exporter": "python",
   "pygments_lexer": "ipython3",
   "version": "3.11.6"
  }
 },
 "nbformat": 4,
 "nbformat_minor": 5
}
